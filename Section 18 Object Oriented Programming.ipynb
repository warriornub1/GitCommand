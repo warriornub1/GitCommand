{
 "cells": [
  {
   "cell_type": "code",
   "execution_count": 5,
   "metadata": {},
   "outputs": [],
   "source": [
    "import random\n",
    "\n",
    "class Dice:\n",
    "    def __init__(self, side):\n",
    "        self.side = side\n",
    "        \n",
    "    def roll_dice(self):\n",
    "       return random.randint(1, self.side)\n",
    "\n",
    "d1 = Dice(6)\n",
    "print(d1.roll_dice())\n",
    "print(d1.roll_dice())"
   ]
  },
  {
   "cell_type": "code",
   "execution_count": 19,
   "metadata": {},
   "outputs": [
    {
     "name": "stdout",
     "output_type": "stream",
     "text": [
      "Area :  153.93804002589985\n",
      "Perimeter :  43.982297150257104\n"
     ]
    }
   ],
   "source": [
    "import math\n",
    "#print(math.pi)\n",
    "\n",
    "class Circle:\n",
    "    def __init__(self, radius):\n",
    "        self.radius = radius\n",
    "    \n",
    "    def area(self):\n",
    "        return math.pi * pow(self.radius, 2)\n",
    "    \n",
    "    def perimeter(self):\n",
    "        return 2 * math.pi * self.radius\n",
    "\n",
    "c1 = Circle(7)\n",
    "print(\"Area : \", c1.area())\n",
    "print(\"Perimeter : \", c1.perimeter())"
   ]
  },
  {
   "cell_type": "code",
   "execution_count": null,
   "metadata": {},
   "outputs": [],
   "source": []
  },
  {
   "cell_type": "code",
   "execution_count": null,
   "metadata": {},
   "outputs": [],
   "source": []
  }
 ],
 "metadata": {
  "kernelspec": {
   "display_name": "Python 3",
   "language": "python",
   "name": "python3"
  },
  "language_info": {
   "codemirror_mode": {
    "name": "ipython",
    "version": 3
   },
   "file_extension": ".py",
   "mimetype": "text/x-python",
   "name": "python",
   "nbconvert_exporter": "python",
   "pygments_lexer": "ipython3",
   "version": "3.8.3"
  }
 },
 "nbformat": 4,
 "nbformat_minor": 4
}
